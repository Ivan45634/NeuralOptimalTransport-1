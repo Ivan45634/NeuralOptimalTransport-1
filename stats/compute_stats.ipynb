{
 "cells": [
  {
   "cell_type": "code",
   "execution_count": 12,
   "metadata": {},
   "outputs": [],
   "source": [
    "import os, sys\n",
    "sys.path.append(\"..\")\n",
    "\n",
    "import matplotlib\n",
    "import numpy as np\n",
    "import matplotlib.pyplot as plt\n",
    "%matplotlib inline \n",
    "\n",
    "import numpy as np\n",
    "import torch\n",
    "import torch.nn as nn\n",
    "import torchvision\n",
    "import gc\n",
    "\n",
    "from src.tools import unfreeze, freeze\n",
    "from src.tools import load_dataset, get_loader_stats\n",
    "\n",
    "from copy import deepcopy\n",
    "import json\n",
    "\n",
    "# from tqdm import tqdm_notebook as tqdm\n",
    "from tqdm import tqdm\n",
    "from IPython.display import clear_output\n",
    "\n",
    "# This needed to use dataloaders for some datasets\n",
    "from PIL import PngImagePlugin\n",
    "LARGE_ENOUGH_NUMBER = 100\n",
    "PngImagePlugin.MAX_TEXT_CHUNK = LARGE_ENOUGH_NUMBER * (1024**2)"
   ]
  },
  {
   "cell_type": "markdown",
   "metadata": {},
   "source": [
    "## Main Config"
   ]
  },
  {
   "cell_type": "code",
   "execution_count": 18,
   "metadata": {
    "tags": [
     "parameters"
    ]
   },
   "outputs": [],
   "source": [
    "DEVICE_ID = 0\n",
    "\n",
    "DATASET_LIST = [\n",
    "    # ('handbag', '../../data/handbag_128.hdf5', 64),\n",
    "    # ('handbag', '../../data/handbag_128.hdf5', 128),\n",
    "    # ('shoes', '../../data/shoes_128.hdf5', 64),\n",
    "    # ('shoes', '../../data/shoes_128.hdf5', 128),\n",
    "    # ('celeba_female', '', 64), \n",
    "    ('celeba_female', '/gpfs/gpfs0/groznyy.sergey/Datasets/CelebA', 128),\n",
    "    # ('aligned_anime_faces', '../../data/aligned_anime_faces', 64),\n",
    "    ('aligned_anime_faces', '/gpfs/gpfs0/groznyy.sergey/Datasets/AlignedAnimeFaces_128', 128),\n",
    "]\n",
    "\n",
    "assert torch.cuda.is_available()\n",
    "torch.cuda.set_device(f'cuda:{DEVICE_ID}')"
   ]
  },
  {
   "cell_type": "code",
   "execution_count": 8,
   "metadata": {},
   "outputs": [
    {
     "data": {
      "text/plain": [
       "'/trinity/home/groznyy.sergey/listopadov_i/NeuralOptimalTransport/stats'"
      ]
     },
     "execution_count": 8,
     "metadata": {},
     "output_type": "execute_result"
    }
   ],
   "source": [
    "pwd"
   ]
  },
  {
   "cell_type": "code",
   "execution_count": 20,
   "metadata": {},
   "outputs": [
    {
     "name": "stderr",
     "output_type": "stream",
     "text": [
      "  0%|                                                     | 0/2 [00:00<?, ?it/s]"
     ]
    },
    {
     "name": "stdout",
     "output_type": "stream",
     "text": [
      "Processing celeba_female\n",
      "Dataset celeba_female loaded\n",
      "Trace of sigma: 123.96530330305148\n",
      "Stats computed\n"
     ]
    },
    {
     "name": "stderr",
     "output_type": "stream",
     "text": [
      " 50%|██████████████████████▌                      | 1/2 [00:37<00:37, 37.73s/it]"
     ]
    },
    {
     "name": "stdout",
     "output_type": "stream",
     "text": [
      "States saved to celeba_female_128_test.json\n",
      "Processing aligned_anime_faces\n",
      "Dataset aligned_anime_faces loaded\n",
      "Trace of sigma: 116.59936289870218\n",
      "Stats computed\n"
     ]
    },
    {
     "name": "stderr",
     "output_type": "stream",
     "text": [
      "100%|█████████████████████████████████████████████| 2/2 [02:44<00:00, 82.45s/it]"
     ]
    },
    {
     "name": "stdout",
     "output_type": "stream",
     "text": [
      "States saved to aligned_anime_faces_128_test.json\n"
     ]
    },
    {
     "name": "stderr",
     "output_type": "stream",
     "text": [
      "\n"
     ]
    }
   ],
   "source": [
    "for DATASET, DATASET_PATH, IMG_SIZE in tqdm(DATASET_LIST):\n",
    "    print('Processing {}'.format(DATASET))\n",
    "    sampler, test_sampler = load_dataset(DATASET, DATASET_PATH, img_size=IMG_SIZE)\n",
    "    print('Dataset {} loaded'.format(DATASET))\n",
    "\n",
    "    mu, sigma = get_loader_stats(test_sampler.loader)\n",
    "    print('Trace of sigma: {}'.format(np.trace(sigma)))\n",
    "    stats = {'mu' : mu.tolist(), 'sigma' : sigma.tolist()}\n",
    "    print('Stats computed')\n",
    "\n",
    "    filename = '{}_{}_test.json'.format(DATASET, IMG_SIZE)\n",
    "    with open(filename, 'w') as fp:\n",
    "        json.dump(stats, fp)\n",
    "    print('States saved to {}'.format(filename))"
   ]
  }
 ],
 "metadata": {
  "celltoolbar": "Tags",
  "kernelspec": {
   "display_name": "Python 3 (ipykernel)",
   "language": "python",
   "name": "python3"
  },
  "language_info": {
   "codemirror_mode": {
    "name": "ipython",
    "version": 3
   },
   "file_extension": ".py",
   "mimetype": "text/x-python",
   "name": "python",
   "nbconvert_exporter": "python",
   "pygments_lexer": "ipython3",
   "version": "3.8.10"
  }
 },
 "nbformat": 4,
 "nbformat_minor": 4
}
